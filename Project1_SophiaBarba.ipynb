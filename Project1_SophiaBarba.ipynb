{
 "cells": [
  {
   "cell_type": "code",
   "execution_count": 100,
   "metadata": {},
   "outputs": [
    {
     "name": "stdout",
     "output_type": "stream",
     "text": [
      "Choose an operation? +, -, *, /, sqrt :   sqrt\n",
      "\n",
      "Type a number to find square root: 100\n",
      "Square Root is: 10.0\n"
     ]
    }
   ],
   "source": [
    "import math\n",
    "\n",
    "operation = input(\"Choose an operation? +, -, *, /, sqrt :   \")     #asks for user input that specify which type of operation\n",
    "print(\"\")\n",
    "\n",
    "if operation == '+':                                         #if the user inputs addition sign\n",
    "    num1 = input(\"Enter first number: \")\n",
    "    num2 = input(\"Enter second number: \")\n",
    "    result = float(num1) + float(num2)\n",
    "    print(\"\")\n",
    "    print(\"Sum is: \" + str(result))\n",
    "elif operation == '-':                                       #if the user inputs minus sign \n",
    "    num1 = input(\"Enter first number: \")\n",
    "    num2 = input(\"Enter second number: \")\n",
    "    result = float(num1) - float(num2)\n",
    "    print(\"\")\n",
    "    print(\"Difference is: \" + str(result))\n",
    "elif operation == '*':                                       #if the user inputs multiplication sign\n",
    "    num1 = input(\"Enter first number: \")\n",
    "    num2 = input(\"Enter second number: \")\n",
    "    result = float(num1) * float(num2)\n",
    "    print(\"\")\n",
    "    print(\"Product is: \" + str(result))\n",
    "elif operation == '/':                                       #if the user inputs division sign\n",
    "    num1 = input(\"Enter the dividend: \")\n",
    "    num2 = input(\"Enter the divisor: \")\n",
    "    result = float(num1) / float(num2)\n",
    "    print(\"\")\n",
    "    print(\"Quotient is: \" + str(result))\n",
    "elif operation == 'sqrt':                                    #find square root\n",
    "    num1 = input(\"Type a number to find square root: \")\n",
    "    result = math.sqrt(int(num1))\n",
    "    print(\"Square Root is: \" + str(result))\n",
    "else:                                                        #when the user inputs something other than the four signs, it will show as invalid input\n",
    "    print(\"->INVALID INPUT<-\")\n",
    "    print(\"Please try again.\")"
   ]
  },
  {
   "cell_type": "code",
   "execution_count": null,
   "metadata": {},
   "outputs": [],
   "source": []
  }
 ],
 "metadata": {
  "kernelspec": {
   "display_name": "Python 3",
   "language": "python",
   "name": "python3"
  },
  "language_info": {
   "codemirror_mode": {
    "name": "ipython",
    "version": 3
   },
   "file_extension": ".py",
   "mimetype": "text/x-python",
   "name": "python",
   "nbconvert_exporter": "python",
   "pygments_lexer": "ipython3",
   "version": "3.8.3"
  }
 },
 "nbformat": 4,
 "nbformat_minor": 4
}
